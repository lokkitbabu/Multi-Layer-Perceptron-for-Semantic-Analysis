{
 "cells": [
  {
   "cell_type": "code",
   "execution_count": 1,
   "metadata": {
    "colab": {
     "base_uri": "https://localhost:8080/",
     "height": 0
    },
    "executionInfo": {
     "elapsed": 6279,
     "status": "error",
     "timestamp": 1744964681228,
     "user": {
      "displayName": "Lokkit Sanjay Babu Narayanan",
      "userId": "07990453885255489899"
     },
     "user_tz": 240
    },
    "id": "hnyNRt9ryiKz",
    "outputId": "0da40e21-12a8-471d-8e46-5467f38a5874"
   },
   "outputs": [
    {
     "name": "stdout",
     "output_type": "stream",
     "text": [
      "\n",
      "===== Filtered TF-IDF Classifier Evaluation =====\n",
      "Exact Match Accuracy: 0.4275\n",
      "Hamming Loss: 0.0534\n",
      "F1 Score (micro): 0.6402\n",
      "F1 Score (macro): 0.4677\n",
      "              precision    recall  f1-score   support\n",
      "\n",
      "           0       0.53      0.67      0.59        15\n",
      "           1       0.44      0.57      0.50        14\n",
      "           2       1.00      0.86      0.92         7\n",
      "           3       0.50      0.87      0.63        15\n",
      "           4       0.75      0.60      0.67        10\n",
      "           5       0.00      0.00      0.00         0\n",
      "           6       0.39      0.90      0.55        10\n",
      "           7       0.85      0.69      0.76        16\n",
      "           8       0.00      0.00      0.00         0\n",
      "           9       0.00      0.00      0.00         5\n",
      "          10       1.00      0.67      0.80         3\n",
      "          11       0.60      0.75      0.67        16\n",
      "          12       0.00      0.00      0.00         0\n",
      "          13       0.54      0.71      0.61        21\n",
      "          14       0.00      0.00      0.00         0\n",
      "          15       0.81      0.76      0.79        17\n",
      "\n",
      "   micro avg       0.59      0.70      0.64       149\n",
      "   macro avg       0.46      0.50      0.47       149\n",
      "weighted avg       0.61      0.70      0.64       149\n",
      " samples avg       0.60      0.73      0.64       149\n",
      "\n"
     ]
    }
   ],
   "source": [
    "import numpy as np\n",
    "import pandas as pd\n",
    "import ast\n",
    "\n",
    "from sklearn.feature_extraction.text import TfidfVectorizer\n",
    "from sklearn.model_selection import train_test_split\n",
    "from sklearn.linear_model import LogisticRegression\n",
    "from sklearn.multiclass import OneVsRestClassifier\n",
    "from sklearn.metrics import accuracy_score, hamming_loss, f1_score, classification_report\n",
    "\n",
    "# === Load and preprocess data ===\n",
    "df = pd.read_csv(\"poisoned.csv\")\n",
    "df[\"combined_text\"] = df[\"abstract_section\"] + \" \" + df[\"section\"]\n",
    "df[\"labels\"] = df[\"model_family_vector\"].apply(ast.literal_eval)\n",
    "y_labels = np.array(df[\"labels\"].tolist())\n",
    "\n",
    "# === Vectorize text ===\n",
    "vectorizer = TfidfVectorizer(max_features=3000)\n",
    "X_tfidf = vectorizer.fit_transform(df[\"combined_text\"])\n",
    "\n",
    "# === Train-test split ===\n",
    "X_train, X_test, y_train, y_test = train_test_split(X_tfidf, y_labels, test_size=0.2, random_state=42)\n",
    "\n",
    "# === Remove dead labels ===\n",
    "train_sums = y_train.sum(axis=0)\n",
    "dead_mask = (train_sums == 0)\n",
    "alive_mask = ~dead_mask\n",
    "y_train_filtered = y_train[:, alive_mask]\n",
    "y_test_filtered = y_test[:, alive_mask]\n",
    "\n",
    "# === Train classifier ===\n",
    "clf = OneVsRestClassifier(LogisticRegression(C=10.0, max_iter=1000, class_weight='balanced'))\n",
    "clf.fit(X_train, y_train_filtered)\n",
    "\n",
    "# === Predict probabilities ===\n",
    "y_pred_proba = clf.predict_proba(X_test)\n",
    "\n",
    "# === Optimize thresholds ===\n",
    "def optimize_global_threshold_for_f1(y_true, y_proba):\n",
    "    thresholds = np.linspace(0.1, 0.9, 101)\n",
    "    best_thresholds = []\n",
    "    for i in range(y_true.shape[1]):\n",
    "        best_score = -1\n",
    "        best_t = 0.5\n",
    "        for t in thresholds:\n",
    "            test_thresholds = np.ones(y_true.shape[1]) * 0.5\n",
    "            test_thresholds[i] = t\n",
    "            y_pred = (y_proba >= test_thresholds).astype(int)\n",
    "            micro_score = f1_score(y_true, y_pred, average='micro', zero_division=0)\n",
    "            macro_score = f1_score(y_true, y_pred, average='macro', zero_division=0)\n",
    "            weighted_score = f1_score(y_true, y_pred, average='weighted', zero_division=0)\n",
    "            score = np.mean([micro_score, macro_score, weighted_score])\n",
    "            if score > best_score:\n",
    "                best_score = score\n",
    "                best_t = t\n",
    "        best_thresholds.append(best_t)\n",
    "    return np.array(best_thresholds)\n",
    "\n",
    "best_thr = optimize_global_threshold_for_f1(y_test_filtered, y_pred_proba)\n",
    "y_pred = (y_pred_proba >= best_thr).astype(int)\n",
    "\n",
    "# === Evaluate ===\n",
    "exact_match = accuracy_score(y_test_filtered, y_pred)\n",
    "h_loss = hamming_loss(y_test_filtered, y_pred)\n",
    "f1_micro = f1_score(y_test_filtered, y_pred, average='micro', zero_division=0)\n",
    "f1_macro = f1_score(y_test_filtered, y_pred, average='macro', zero_division=0)\n",
    "\n",
    "print(\"\\n===== Filtered TF-IDF Classifier Evaluation =====\")\n",
    "print(f\"Exact Match Accuracy: {exact_match:.4f}\")\n",
    "print(f\"Hamming Loss: {h_loss:.4f}\")\n",
    "print(f\"F1 Score (micro): {f1_micro:.4f}\")\n",
    "print(f\"F1 Score (macro): {f1_macro:.4f}\")\n",
    "print(classification_report(y_test_filtered, y_pred, zero_division=0))\n"
   ]
  }
 ],
 "metadata": {
  "colab": {
   "provenance": []
  },
  "kernelspec": {
   "display_name": "ml_hw2",
   "language": "python",
   "name": "python3"
  },
  "language_info": {
   "codemirror_mode": {
    "name": "ipython",
    "version": 3
   },
   "file_extension": ".py",
   "mimetype": "text/x-python",
   "name": "python",
   "nbconvert_exporter": "python",
   "pygments_lexer": "ipython3",
   "version": "3.11.11"
  }
 },
 "nbformat": 4,
 "nbformat_minor": 0
}
